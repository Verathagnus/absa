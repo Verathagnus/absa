{
  "nbformat": 4,
  "nbformat_minor": 0,
  "metadata": {
    "colab": {
      "name": "enterpret.ipynb",
      "provenance": [],
      "collapsed_sections": [
        "cd3A1xvUyoFW",
        "cRbFMlz_SMw2",
        "SwOOYKMhcYhv",
        "I9slPox8LJfr"
      ]
    },
    "kernelspec": {
      "name": "python3",
      "display_name": "Python 3"
    },
    "language_info": {
      "name": "python"
    }
  },
  "cells": [
    {
      "cell_type": "markdown",
      "metadata": {
        "id": "60t9hvOH0pum"
      },
      "source": [
        "# Structure"
      ]
    },
    {
      "cell_type": "markdown",
      "metadata": {
        "id": "fB93Lpl6ylHY"
      },
      "source": [
        "Mail us the link to the google drive when you are done.\n",
        "\n",
        "All artifacts have to be in this format in a folder in google drive\n",
        "\n",
        "- absa/src - contains all the source needed for model inferencing\n",
        "- absa/notebooks - experimental notebooks\n",
        "- absa/models - contains all models\n",
        "- absa/main.py - API code\n",
        "- absa/src/evaluation.py - should load the model and test file, generate results and save the result to `absa/data/results/test.csv` with columns `text, aspect and label`\n",
        "- training_methodology - doc about your training approach\n",
        "- deployment_pipeline doc - doc about your deployment pipeline in AWS for live inferencing (not a batch process)\n",
        "    - You can choose any approach to deploy\n",
        "    - API should be able to scale as needed\n",
        "    - Load profile in live inferencing is bursty in nature i.e can have spikes of load"
      ]
    },
    {
      "cell_type": "markdown",
      "metadata": {
        "id": "cd3A1xvUyoFW"
      },
      "source": [
        "# API"
      ]
    },
    {
      "cell_type": "code",
      "metadata": {
        "id": "k6pk1FGG0Otd"
      },
      "source": [
        "!pip install flask gevent requests pillow"
      ],
      "execution_count": null,
      "outputs": []
    },
    {
      "cell_type": "code",
      "metadata": {
        "colab": {
          "base_uri": "https://localhost:8080/"
        },
        "id": "jX2EWPTa4UWu",
        "outputId": "5f5ea424-9f26-4f97-fef0-86f054d99a8d"
      },
      "source": [
        "!pip install flask-ngrok"
      ],
      "execution_count": null,
      "outputs": [
        {
          "output_type": "stream",
          "text": [
            "Collecting flask-ngrok\n",
            "  Downloading flask_ngrok-0.0.25-py3-none-any.whl (3.1 kB)\n",
            "Requirement already satisfied: requests in /usr/local/lib/python3.7/dist-packages (from flask-ngrok) (2.23.0)\n",
            "Requirement already satisfied: Flask>=0.8 in /usr/local/lib/python3.7/dist-packages (from flask-ngrok) (1.1.4)\n",
            "Requirement already satisfied: Jinja2<3.0,>=2.10.1 in /usr/local/lib/python3.7/dist-packages (from Flask>=0.8->flask-ngrok) (2.11.3)\n",
            "Requirement already satisfied: itsdangerous<2.0,>=0.24 in /usr/local/lib/python3.7/dist-packages (from Flask>=0.8->flask-ngrok) (1.1.0)\n",
            "Requirement already satisfied: Werkzeug<2.0,>=0.15 in /usr/local/lib/python3.7/dist-packages (from Flask>=0.8->flask-ngrok) (1.0.1)\n",
            "Requirement already satisfied: click<8.0,>=5.1 in /usr/local/lib/python3.7/dist-packages (from Flask>=0.8->flask-ngrok) (7.1.2)\n",
            "Requirement already satisfied: MarkupSafe>=0.23 in /usr/local/lib/python3.7/dist-packages (from Jinja2<3.0,>=2.10.1->Flask>=0.8->flask-ngrok) (2.0.1)\n",
            "Requirement already satisfied: chardet<4,>=3.0.2 in /usr/local/lib/python3.7/dist-packages (from requests->flask-ngrok) (3.0.4)\n",
            "Requirement already satisfied: idna<3,>=2.5 in /usr/local/lib/python3.7/dist-packages (from requests->flask-ngrok) (2.10)\n",
            "Requirement already satisfied: certifi>=2017.4.17 in /usr/local/lib/python3.7/dist-packages (from requests->flask-ngrok) (2021.5.30)\n",
            "Requirement already satisfied: urllib3!=1.25.0,!=1.25.1,<1.26,>=1.21.1 in /usr/local/lib/python3.7/dist-packages (from requests->flask-ngrok) (1.24.3)\n",
            "Installing collected packages: flask-ngrok\n",
            "Successfully installed flask-ngrok-0.0.25\n"
          ],
          "name": "stdout"
        }
      ]
    },
    {
      "cell_type": "markdown",
      "metadata": {
        "id": "cRbFMlz_SMw2"
      },
      "source": [
        "# Testing API with ngrok tunnel"
      ]
    },
    {
      "cell_type": "code",
      "metadata": {
        "colab": {
          "base_uri": "https://localhost:8080/"
        },
        "id": "Tj50inzlydi6",
        "outputId": "f63a0dbd-9aa9-464f-a492-2ede280506d7"
      },
      "source": [
        "from sklearn.preprocessing import LabelEncoder\n",
        "from sklearn.svm import SVC\n",
        "from sklearn.tree import DecisionTreeClassifier\n",
        "from sklearn.neighbors import KNeighborsClassifier\n",
        "from sklearn.linear_model import LogisticRegression\n",
        "from tensorflow.keras.utils import to_categorical\n",
        "from keras.preprocessing.text import Tokenizer\n",
        "from keras.layers import Dense, Activation\n",
        "from keras.models import Sequential\n",
        "from keras.models import load_model\n",
        "import tensorflow as tf\n",
        "import warnings\n",
        "import pandas as pd\n",
        "import numpy as np\n",
        "import json\n",
        "import re\n",
        "import pickle\n",
        "import string\n",
        "import sys\n",
        "import getopt\n",
        "\n",
        "\"\"\"# Process\"\"\"\n",
        "\n",
        "# Spacy\n",
        "nlp = spacy.load('en')\n",
        "\n",
        "# Other\n",
        "\n",
        "warnings.filterwarnings('ignore')\n",
        "\n",
        "# Keras\n",
        "\n",
        "\n",
        "def remove_punc(aspect):\n",
        "    punc = string.punctuation\n",
        "    temp = \"\"\n",
        "    for i in aspect:\n",
        "        if i not in punc:\n",
        "            temp += i\n",
        "    return temp\n",
        "\n",
        "import io\n",
        "import json\n",
        "\n",
        "from flask import Flask, jsonify, request\n",
        "from flask_ngrok import run_with_ngrok\n",
        "\n",
        "app = Flask(__name__)\n",
        "run_with_ngrok(app)\n",
        "\n",
        "\n",
        "\n",
        "def get_prediction(model, text, aspect):\n",
        "  df = pd.DataFrame({'text':[text], 'aspect':[aspect]})\n",
        "  test_tokenized = pd.DataFrame(tokenizer.texts_to_matrix(df.text))\n",
        "  test_tokenized2 = pd.DataFrame(tokenizer2.texts_to_matrix(df.aspect))\n",
        "  test_tokenized3 = pd.concat([test_tokenized, test_tokenized2], axis=1)\n",
        "  # print(test_tokenized3)\n",
        "  if model == 'dl':\n",
        "    return label_encoder.inverse_transform(np.argmax(absa_model.predict(test_tokenized3), axis=-1))\n",
        "  elif model in (\"lr\", \"knn\", \"dt\", \"svc\"):\n",
        "    return absa_model.predict(test_tokenized3)\n",
        "  else:\n",
        "    return 'Error'\n",
        "def load_model_encoders(model, modelfile):\n",
        "  global absa_model\n",
        "  global tokenizer\n",
        "  global tokenizer2\n",
        "  global label_encoder\n",
        "  model_loc = \"./models/\"\n",
        "  text_tok = model_loc+modelfile+'text_tokenizer_'+model\n",
        "  with open(text_tok, 'rb') as handle:\n",
        "    tokenizer = pickle.load(handle)\n",
        "  aspect_tok = model_loc+modelfile+'aspect_tokenizer_'+model\n",
        "  with open(aspect_tok, 'rb') as handle:\n",
        "    tokenizer2 = pickle.load(handle)\n",
        "  label_en = model_loc+modelfile+'label_encoder_'+model\n",
        "  with open(label_en, 'rb') as handle:\n",
        "    label_encoder = pickle.load(handle)\n",
        "  \n",
        "  if model == \"dl\":\n",
        "    model_name = model_loc+modelfile+'dl'\n",
        "    absa_model = load_model(model_name)\n",
        "    return\n",
        "  if model == \"lr\":\n",
        "    pkl_filename = model_loc+modelfile+'lr.pkl'\n",
        "    with open(pkl_filename, 'rb') as file:\n",
        "      absa_model = pickle.load(file)\n",
        "    return\n",
        "  if model == \"knn\":\n",
        "    pkl_filename = model_loc+modelfile+'knn.pkl'\n",
        "    with open(pkl_filename, 'rb') as file:\n",
        "      absa_model = pickle.load(file)\n",
        "    return\n",
        "  if model == \"dt\":\n",
        "    pkl_filename = model_loc+modelfile+'dt.pkl'\n",
        "    with open(pkl_filename, 'rb') as file:\n",
        "      absa_model = pickle.load(file)\n",
        "    return\n",
        "  if model == \"svc\":\n",
        "    pkl_filename = model_loc+modelfile+'svc.pkl'\n",
        "    with open(pkl_filename, 'rb') as file:\n",
        "      absa_model = pickle.load(file)\n",
        "    return\n",
        "\n",
        "@app.route('/', methods=['GET'])\n",
        "def home():\n",
        "   return jsonify({'model': 'MODEL_TYPE', 'modelfile': 'MODEL_FILE_NAME', 'text': 'TEXT', 'aspect': 'ASPECT'})\n",
        "\n",
        "@app.route('/predict', methods=['GET'])\n",
        "def predict():\n",
        "    if request.method == 'GET':\n",
        "        # data = request.get_json()     # status code\n",
        "        # return request.args\n",
        "        # return jsonify({'data': data})\n",
        "        if ['aspect', 'model', 'modelname', 'text'] != sorted(list(request.args.keys())):\n",
        "          return jsonify({'model': 'MODEL_TYPE', 'modelfile': 'MODEL_FILE_NAME', 'text': 'TEXT', 'aspect': 'ASPECT'})\n",
        "        model = str(request.args.get('model'))\n",
        "        if request.args.get('modelfile') == None:\n",
        "          modelfile = \"\"\n",
        "        else:\n",
        "          modelfile = str(request.args.get('modelfile'))\n",
        "        text = str(request.args.get('text'))\n",
        "        aspect = str(request.args.get('aspect'))\n",
        "        print(text, aspect)\n",
        "        # if model != cache_model and modelfile != cache_modelfile: \n",
        "        load_model_encoders(model, modelfile)\n",
        "          # cache_model = model\n",
        "          # cache_modelfile = modelfile\n",
        "        \n",
        "        sentiment = get_prediction(model, text, aspect).tolist()[0]\n",
        "        return jsonify({'sentiment': sentiment})\n",
        "\n",
        "\n",
        "if __name__ == '__main__':\n",
        "    app.run()"
      ],
      "execution_count": null,
      "outputs": [
        {
          "output_type": "stream",
          "text": [
            "[nltk_data] Downloading package stopwords to /root/nltk_data...\n",
            "[nltk_data]   Package stopwords is already up-to-date!\n",
            "[nltk_data] Downloading package punkt to /root/nltk_data...\n",
            "[nltk_data]   Package punkt is already up-to-date!\n",
            "[nltk_data] Downloading package averaged_perceptron_tagger to\n",
            "[nltk_data]     /root/nltk_data...\n",
            "[nltk_data]   Package averaged_perceptron_tagger is already up-to-\n",
            "[nltk_data]       date!\n",
            " * Serving Flask app \"__main__\" (lazy loading)\n",
            " * Environment: production\n",
            "\u001b[31m   WARNING: This is a development server. Do not use it in a production deployment.\u001b[0m\n",
            "\u001b[2m   Use a production WSGI server instead.\u001b[0m\n",
            " * Debug mode: off\n"
          ],
          "name": "stdout"
        },
        {
          "output_type": "stream",
          "text": [
            " * Running on http://127.0.0.1:5000/ (Press CTRL+C to quit)\n"
          ],
          "name": "stderr"
        },
        {
          "output_type": "stream",
          "text": [
            " * Running on http://7853-35-185-69-18.ngrok.io\n",
            " * Traffic stats available on http://127.0.0.1:4040\n"
          ],
          "name": "stdout"
        },
        {
          "output_type": "stream",
          "text": [
            "127.0.0.1 - - [27/Aug/2021 08:24:24] \"\u001b[37mGET /predict?model=lr&modelname=&text=customer%20is%20bad&aspect=customer HTTP/1.1\u001b[0m\" 200 -\n"
          ],
          "name": "stderr"
        },
        {
          "output_type": "stream",
          "text": [
            "customer is bad customer\n"
          ],
          "name": "stdout"
        }
      ]
    },
    {
      "cell_type": "markdown",
      "metadata": {
        "id": "i2HXq6mHyr0f"
      },
      "source": [
        "# Code Files run"
      ]
    },
    {
      "cell_type": "code",
      "metadata": {
        "colab": {
          "base_uri": "https://localhost:8080/"
        },
        "id": "tbKSKUbHdhjZ",
        "outputId": "497f58a6-7d5f-43ef-d564-8a6c7568124c"
      },
      "source": [
        "cd /content/drive/MyDrive/absa"
      ],
      "execution_count": 1,
      "outputs": [
        {
          "output_type": "stream",
          "text": [
            "/content/drive/MyDrive/absa\n"
          ],
          "name": "stdout"
        }
      ]
    },
    {
      "cell_type": "code",
      "metadata": {
        "id": "k26HORRV6u2d",
        "colab": {
          "base_uri": "https://localhost:8080/"
        },
        "outputId": "834435db-a1f4-426d-effb-78cde9cbdd90"
      },
      "source": [
        "!python src/train.py -m all"
      ],
      "execution_count": 5,
      "outputs": [
        {
          "output_type": "stream",
          "text": [
            "Text tokenizer saved to  ./models/text_tokenizer_dl\n",
            "Aspect tokenizer saved to  ./models/aspect_tokenizer_dl\n",
            "Label Encoder saved to  ./models/label_encoder_dl\n",
            "Text tokenizer saved to  ./models/text_tokenizer_lr\n",
            "Aspect tokenizer saved to  ./models/aspect_tokenizer_lr\n",
            "Label Encoder saved to  ./models/label_encoder_lr\n",
            "Text tokenizer saved to  ./models/text_tokenizer_knn\n",
            "Aspect tokenizer saved to  ./models/aspect_tokenizer_knn\n",
            "Label Encoder saved to  ./models/label_encoder_knn\n",
            "Text tokenizer saved to  ./models/text_tokenizer_dt\n",
            "Aspect tokenizer saved to  ./models/aspect_tokenizer_dt\n",
            "Label Encoder saved to  ./models/label_encoder_dt\n",
            "Text tokenizer saved to  ./models/text_tokenizer_svc\n",
            "Aspect tokenizer saved to  ./models/aspect_tokenizer_svc\n",
            "Label Encoder saved to  ./models/label_encoder_svc\n",
            "Text tokenizer saved to  ./models/text_tokenizer_all\n",
            "Aspect tokenizer saved to  ./models/aspect_tokenizer_all\n",
            "Label Encoder saved to  ./models/label_encoder_all\n",
            "Deep Learning - all\n",
            "2021-08-27 17:46:08.876233: E tensorflow/stream_executor/cuda/cuda_driver.cc:271] failed call to cuInit: CUDA_ERROR_NO_DEVICE: no CUDA-capable device is detected\n",
            "2021-08-27 17:46:08.876324: I tensorflow/stream_executor/cuda/cuda_diagnostics.cc:156] kernel driver does not appear to be running on this host (87b8de73badb): /proc/driver/nvidia/version does not exist\n",
            "2021-08-27 17:46:20.596895: I tensorflow/compiler/mlir/mlir_graph_optimization_pass.cc:185] None of the MLIR Optimization Passes are enabled (registered 2)\n",
            "Epoch 1/50\n",
            "113/113 [==============================] - 16s 139ms/step - loss: 0.8292 - accuracy: 0.6219 - val_loss: 0.7983 - val_accuracy: 0.6750\n",
            "Epoch 2/50\n",
            "113/113 [==============================] - 5s 40ms/step - loss: 0.3530 - accuracy: 0.8711 - val_loss: 0.9692 - val_accuracy: 0.6300\n",
            "Epoch 3/50\n",
            "113/113 [==============================] - 5s 40ms/step - loss: 0.1290 - accuracy: 0.9578 - val_loss: 1.2364 - val_accuracy: 0.6550\n",
            "Epoch 4/50\n",
            "113/113 [==============================] - 5s 41ms/step - loss: 0.0583 - accuracy: 0.9811 - val_loss: 1.6089 - val_accuracy: 0.6675\n",
            "Epoch 5/50\n",
            "113/113 [==============================] - 5s 40ms/step - loss: 0.0392 - accuracy: 0.9856 - val_loss: 1.6585 - val_accuracy: 0.6775\n",
            "Epoch 6/50\n",
            "113/113 [==============================] - 5s 41ms/step - loss: 0.0256 - accuracy: 0.9892 - val_loss: 1.7926 - val_accuracy: 0.6750\n",
            "Epoch 7/50\n",
            "113/113 [==============================] - 5s 41ms/step - loss: 0.0173 - accuracy: 0.9917 - val_loss: 2.1091 - val_accuracy: 0.6875\n",
            "Epoch 8/50\n",
            "113/113 [==============================] - 5s 40ms/step - loss: 0.0175 - accuracy: 0.9922 - val_loss: 2.1801 - val_accuracy: 0.6625\n",
            "Epoch 9/50\n",
            "113/113 [==============================] - 5s 40ms/step - loss: 0.0174 - accuracy: 0.9925 - val_loss: 2.1123 - val_accuracy: 0.6525\n",
            "Epoch 10/50\n",
            "113/113 [==============================] - 5s 41ms/step - loss: 0.0130 - accuracy: 0.9939 - val_loss: 2.4417 - val_accuracy: 0.6550\n",
            "Epoch 11/50\n",
            "113/113 [==============================] - 5s 41ms/step - loss: 0.0145 - accuracy: 0.9939 - val_loss: 2.2970 - val_accuracy: 0.6650\n",
            "Epoch 12/50\n",
            "113/113 [==============================] - 5s 40ms/step - loss: 0.0091 - accuracy: 0.9956 - val_loss: 2.5381 - val_accuracy: 0.6750\n",
            "Epoch 13/50\n",
            "113/113 [==============================] - 5s 41ms/step - loss: 0.0089 - accuracy: 0.9944 - val_loss: 2.6431 - val_accuracy: 0.6650\n",
            "Epoch 14/50\n",
            "113/113 [==============================] - 5s 40ms/step - loss: 0.0140 - accuracy: 0.9939 - val_loss: 2.5401 - val_accuracy: 0.6550\n",
            "Epoch 15/50\n",
            "113/113 [==============================] - 5s 41ms/step - loss: 0.0161 - accuracy: 0.9925 - val_loss: 2.5366 - val_accuracy: 0.6400\n",
            "Epoch 16/50\n",
            "113/113 [==============================] - 5s 40ms/step - loss: 0.0332 - accuracy: 0.9872 - val_loss: 2.2245 - val_accuracy: 0.6475\n",
            "Epoch 17/50\n",
            "113/113 [==============================] - 5s 41ms/step - loss: 0.0333 - accuracy: 0.9889 - val_loss: 2.5060 - val_accuracy: 0.6525\n",
            "Epoch 18/50\n",
            "113/113 [==============================] - 5s 40ms/step - loss: 0.0287 - accuracy: 0.9908 - val_loss: 2.1807 - val_accuracy: 0.6575\n",
            "Epoch 19/50\n",
            "113/113 [==============================] - 5s 40ms/step - loss: 0.0237 - accuracy: 0.9928 - val_loss: 2.3385 - val_accuracy: 0.6525\n",
            "Epoch 20/50\n",
            "113/113 [==============================] - 5s 40ms/step - loss: 0.0119 - accuracy: 0.9933 - val_loss: 2.6250 - val_accuracy: 0.6475\n",
            "Epoch 21/50\n",
            "113/113 [==============================] - 5s 40ms/step - loss: 0.0122 - accuracy: 0.9950 - val_loss: 2.5989 - val_accuracy: 0.6525\n",
            "Epoch 22/50\n",
            "113/113 [==============================] - 5s 40ms/step - loss: 0.0074 - accuracy: 0.9964 - val_loss: 2.7917 - val_accuracy: 0.6425\n",
            "Epoch 23/50\n",
            "113/113 [==============================] - 5s 41ms/step - loss: 0.0081 - accuracy: 0.9953 - val_loss: 2.8669 - val_accuracy: 0.6550\n",
            "Epoch 24/50\n",
            "113/113 [==============================] - 5s 40ms/step - loss: 0.0087 - accuracy: 0.9956 - val_loss: 2.7502 - val_accuracy: 0.6475\n",
            "Epoch 25/50\n",
            "113/113 [==============================] - 5s 40ms/step - loss: 0.0065 - accuracy: 0.9969 - val_loss: 2.9701 - val_accuracy: 0.6475\n",
            "Epoch 26/50\n",
            "113/113 [==============================] - 5s 40ms/step - loss: 0.0057 - accuracy: 0.9967 - val_loss: 3.1647 - val_accuracy: 0.6475\n",
            "Epoch 27/50\n",
            "113/113 [==============================] - 5s 40ms/step - loss: 0.0068 - accuracy: 0.9956 - val_loss: 3.1020 - val_accuracy: 0.6500\n",
            "Epoch 28/50\n",
            "113/113 [==============================] - 5s 40ms/step - loss: 0.0053 - accuracy: 0.9967 - val_loss: 3.2683 - val_accuracy: 0.6500\n",
            "Epoch 29/50\n",
            "113/113 [==============================] - 5s 40ms/step - loss: 0.0053 - accuracy: 0.9961 - val_loss: 3.3193 - val_accuracy: 0.6525\n",
            "Epoch 30/50\n",
            "113/113 [==============================] - 5s 41ms/step - loss: 0.0050 - accuracy: 0.9967 - val_loss: 3.4367 - val_accuracy: 0.6500\n",
            "Epoch 31/50\n",
            "113/113 [==============================] - 5s 40ms/step - loss: 0.0052 - accuracy: 0.9961 - val_loss: 3.3775 - val_accuracy: 0.6500\n",
            "Epoch 32/50\n",
            "113/113 [==============================] - 5s 41ms/step - loss: 0.0047 - accuracy: 0.9972 - val_loss: 3.4785 - val_accuracy: 0.6550\n",
            "Epoch 33/50\n",
            "113/113 [==============================] - 5s 41ms/step - loss: 0.0049 - accuracy: 0.9969 - val_loss: 3.5349 - val_accuracy: 0.6525\n",
            "Epoch 34/50\n",
            "113/113 [==============================] - 5s 40ms/step - loss: 0.0042 - accuracy: 0.9978 - val_loss: 3.6411 - val_accuracy: 0.6500\n",
            "Epoch 35/50\n",
            "113/113 [==============================] - 5s 40ms/step - loss: 0.0039 - accuracy: 0.9978 - val_loss: 3.7172 - val_accuracy: 0.6500\n",
            "Epoch 36/50\n",
            "113/113 [==============================] - 5s 41ms/step - loss: 0.0038 - accuracy: 0.9972 - val_loss: 3.7958 - val_accuracy: 0.6550\n",
            "Epoch 37/50\n",
            "113/113 [==============================] - 5s 40ms/step - loss: 0.0037 - accuracy: 0.9972 - val_loss: 3.8372 - val_accuracy: 0.6550\n",
            "Epoch 38/50\n",
            "113/113 [==============================] - 5s 41ms/step - loss: 0.0043 - accuracy: 0.9983 - val_loss: 3.6820 - val_accuracy: 0.6525\n",
            "Epoch 39/50\n",
            "113/113 [==============================] - 5s 41ms/step - loss: 0.0047 - accuracy: 0.9981 - val_loss: 3.8807 - val_accuracy: 0.6575\n",
            "Epoch 40/50\n",
            "113/113 [==============================] - 5s 41ms/step - loss: 0.0290 - accuracy: 0.9925 - val_loss: 2.0263 - val_accuracy: 0.6225\n",
            "Epoch 41/50\n",
            "113/113 [==============================] - 5s 40ms/step - loss: 0.0556 - accuracy: 0.9842 - val_loss: 2.2409 - val_accuracy: 0.6400\n",
            "Epoch 42/50\n",
            "113/113 [==============================] - 5s 40ms/step - loss: 0.0457 - accuracy: 0.9853 - val_loss: 2.6423 - val_accuracy: 0.6275\n",
            "Epoch 43/50\n",
            "113/113 [==============================] - 5s 40ms/step - loss: 0.0379 - accuracy: 0.9919 - val_loss: 1.9769 - val_accuracy: 0.6350\n",
            "Epoch 44/50\n",
            "113/113 [==============================] - 5s 40ms/step - loss: 0.0157 - accuracy: 0.9953 - val_loss: 2.1948 - val_accuracy: 0.6450\n",
            "Epoch 45/50\n",
            "113/113 [==============================] - 5s 40ms/step - loss: 0.0067 - accuracy: 0.9972 - val_loss: 2.3598 - val_accuracy: 0.6375\n",
            "Epoch 46/50\n",
            "113/113 [==============================] - 5s 41ms/step - loss: 0.0041 - accuracy: 0.9981 - val_loss: 2.6647 - val_accuracy: 0.6500\n",
            "Epoch 47/50\n",
            "113/113 [==============================] - 5s 40ms/step - loss: 0.0034 - accuracy: 0.9975 - val_loss: 2.8678 - val_accuracy: 0.6500\n",
            "Epoch 48/50\n",
            "113/113 [==============================] - 5s 40ms/step - loss: 0.0031 - accuracy: 0.9981 - val_loss: 3.0156 - val_accuracy: 0.6475\n",
            "Epoch 49/50\n",
            "113/113 [==============================] - 4s 40ms/step - loss: 0.0031 - accuracy: 0.9981 - val_loss: 3.1495 - val_accuracy: 0.6450\n",
            "Epoch 50/50\n",
            "113/113 [==============================] - 5s 40ms/step - loss: 0.0030 - accuracy: 0.9978 - val_loss: 3.2466 - val_accuracy: 0.6475\n",
            "2021-08-27 17:50:21.044421: W tensorflow/python/util/util.cc:348] Sets are not currently considered sequences, but this may change in the future, so consider avoiding using them.\n",
            "Model saved to  ./models/dl\n",
            "<Figure size 640x480 with 1 Axes>\n",
            "<Figure size 640x480 with 1 Axes>\n",
            "Linear Regression - all\n",
            "Model saved to  ./models/lr.pkl\n",
            "Model accuracy on validation:  0.7075\n",
            "              precision    recall  f1-score   support\n",
            "\n",
            "           0       0.76      0.71      0.73       179\n",
            "           1       0.66      0.72      0.69       124\n",
            "           2       0.68      0.69      0.69        97\n",
            "\n",
            "    accuracy                           0.71       400\n",
            "   macro avg       0.70      0.71      0.70       400\n",
            "weighted avg       0.71      0.71      0.71       400\n",
            "\n",
            "KNN - all\n",
            "Model saved to  ./models/knn.pkl\n",
            "Model accuracy on validation:  0.5525\n",
            "              precision    recall  f1-score   support\n",
            "\n",
            "           0       0.62      0.56      0.59       179\n",
            "           1       0.65      0.38      0.48       124\n",
            "           2       0.44      0.76      0.56        97\n",
            "\n",
            "    accuracy                           0.55       400\n",
            "   macro avg       0.57      0.57      0.54       400\n",
            "weighted avg       0.59      0.55      0.55       400\n",
            "\n",
            "Decision Tree - all\n",
            "Model saved to  ./models/lr.dt\n",
            "Model accuracy on validation:  0.6075\n",
            "              precision    recall  f1-score   support\n",
            "\n",
            "           0       0.65      0.65      0.65       179\n",
            "           1       0.58      0.60      0.59       124\n",
            "           2       0.57      0.54      0.55        97\n",
            "\n",
            "    accuracy                           0.61       400\n",
            "   macro avg       0.60      0.60      0.60       400\n",
            "weighted avg       0.61      0.61      0.61       400\n",
            "\n",
            "SVC - all\n",
            "Model saved to  ./models/svc.pkl\n",
            "Model accuracy on validation:  0.725\n",
            "              precision    recall  f1-score   support\n",
            "\n",
            "           0       0.76      0.78      0.77       179\n",
            "           1       0.66      0.81      0.73       124\n",
            "           2       0.77      0.53      0.63        97\n",
            "\n",
            "    accuracy                           0.73       400\n",
            "   macro avg       0.73      0.70      0.71       400\n",
            "weighted avg       0.73      0.72      0.72       400\n",
            "\n"
          ],
          "name": "stdout"
        }
      ]
    },
    {
      "cell_type": "code",
      "metadata": {
        "colab": {
          "base_uri": "https://localhost:8080/"
        },
        "id": "oD0VSY4vtmeW",
        "outputId": "080cf823-1dae-4b50-b388-85838b044934"
      },
      "source": [
        ""
      ],
      "execution_count": 3,
      "outputs": [
        {
          "output_type": "stream",
          "text": [
            "Filesystem      Size  Used Avail Use% Mounted on\n",
            "drive           108G   41G   68G  38% /content/drive\n"
          ],
          "name": "stdout"
        }
      ]
    },
    {
      "cell_type": "code",
      "metadata": {
        "id": "kcztSFZslJng"
      },
      "source": [
        "!python src/train.py -h"
      ],
      "execution_count": null,
      "outputs": []
    },
    {
      "cell_type": "code",
      "metadata": {
        "id": "A5H96f2kc7en",
        "colab": {
          "base_uri": "https://localhost:8080/"
        },
        "outputId": "02e29ebc-8aa5-496d-8a56-ba722b7a75f9"
      },
      "source": [
        "!python src/evaluation.py -m lr"
      ],
      "execution_count": 5,
      "outputs": [
        {
          "output_type": "stream",
          "text": [
            "Text tokenizer loaded from  ./models/text_tokenizer_lr\n",
            "Aspect tokenizer loaded from  ./models/aspect_tokenizer_lr\n",
            "Label Encoder loaded from  ./models/label_encoder_lr\n",
            "Linear Regression - lr\n",
            "Model loaded from  ./models/lr.pkl\n",
            "Result saved to  ./data/results/test.csv\n"
          ],
          "name": "stdout"
        }
      ]
    },
    {
      "cell_type": "code",
      "metadata": {
        "id": "x_DDmWb7yQfy"
      },
      "source": [
        ""
      ],
      "execution_count": null,
      "outputs": []
    },
    {
      "cell_type": "markdown",
      "metadata": {
        "id": "SwOOYKMhcYhv"
      },
      "source": [
        "# Prerequisites"
      ]
    },
    {
      "cell_type": "code",
      "metadata": {
        "colab": {
          "base_uri": "https://localhost:8080/"
        },
        "id": "DlFQ_s-LydfF",
        "outputId": "23cf41c5-e93f-4280-b389-7dd78f8d81f4"
      },
      "source": [
        "cd /content/drive/MyDrive/absa"
      ],
      "execution_count": 7,
      "outputs": [
        {
          "output_type": "stream",
          "text": [
            "/content/drive/MyDrive/absa\n"
          ],
          "name": "stdout"
        }
      ]
    },
    {
      "cell_type": "code",
      "metadata": {
        "id": "-l-GJaovDw2m",
        "colab": {
          "base_uri": "https://localhost:8080/"
        },
        "outputId": "5dcc5b01-bb00-4c2b-9513-6c5095edfef9"
      },
      "source": [
        "!apt-get install tree"
      ],
      "execution_count": 8,
      "outputs": [
        {
          "output_type": "stream",
          "text": [
            "Reading package lists... Done\n",
            "Building dependency tree       \n",
            "Reading state information... Done\n",
            "The following package was automatically installed and is no longer required:\n",
            "  libnvidia-common-460\n",
            "Use 'apt autoremove' to remove it.\n",
            "The following NEW packages will be installed:\n",
            "  tree\n",
            "0 upgraded, 1 newly installed, 0 to remove and 40 not upgraded.\n",
            "Need to get 40.7 kB of archives.\n",
            "After this operation, 105 kB of additional disk space will be used.\n",
            "Get:1 http://archive.ubuntu.com/ubuntu bionic/universe amd64 tree amd64 1.7.0-5 [40.7 kB]\n",
            "Fetched 40.7 kB in 0s (91.4 kB/s)\n",
            "Selecting previously unselected package tree.\n",
            "(Reading database ... 148489 files and directories currently installed.)\n",
            "Preparing to unpack .../tree_1.7.0-5_amd64.deb ...\n",
            "Unpacking tree (1.7.0-5) ...\n",
            "Setting up tree (1.7.0-5) ...\n",
            "Processing triggers for man-db (2.8.3-2ubuntu0.1) ...\n"
          ],
          "name": "stdout"
        }
      ]
    },
    {
      "cell_type": "code",
      "metadata": {
        "colab": {
          "base_uri": "https://localhost:8080/"
        },
        "id": "13K3dh1oy_8T",
        "outputId": "86e2a8fc-9af8-4a0b-e57c-00f4ed6540b5"
      },
      "source": [
        "!tree ."
      ],
      "execution_count": 9,
      "outputs": [
        {
          "output_type": "stream",
          "text": [
            ".\n",
            "├── data\n",
            "│   ├── results\n",
            "│   │   └── test.csv\n",
            "│   ├── test.csv\n",
            "│   └── train.csv\n",
            "├── main.py\n",
            "├── models\n",
            "│   ├── aspect_tokenizer_lr\n",
            "│   ├── label_encoder_lr\n",
            "│   ├── lr.pkl\n",
            "│   └── text_tokenizer_lr\n",
            "├── notebooks\n",
            "│   └── enterpret.ipynb\n",
            "├── src\n",
            "│   ├── evaluation.py\n",
            "│   └── train.py\n",
            "├── training_methodology.txt\n",
            "└── trash\n",
            "    ├── assets\n",
            "    ├── keras_metadata.pb\n",
            "    ├── saved_model.pb\n",
            "    └── variables\n",
            "        ├── variables.data-00000-of-00001\n",
            "        └── variables.index\n",
            "\n",
            "8 directories, 16 files\n"
          ],
          "name": "stdout"
        }
      ]
    },
    {
      "cell_type": "code",
      "metadata": {
        "id": "py4YdDF2zRVk",
        "colab": {
          "base_uri": "https://localhost:8080/"
        },
        "outputId": "ed3040d6-b7af-46f7-c020-d8ffcbba1a99"
      },
      "source": [
        "!pip install stanza"
      ],
      "execution_count": 10,
      "outputs": [
        {
          "output_type": "stream",
          "text": [
            "Collecting stanza\n",
            "  Downloading stanza-1.2.3-py3-none-any.whl (342 kB)\n",
            "\u001b[?25l\r\u001b[K     |█                               | 10 kB 23.1 MB/s eta 0:00:01\r\u001b[K     |██                              | 20 kB 28.2 MB/s eta 0:00:01\r\u001b[K     |██▉                             | 30 kB 12.8 MB/s eta 0:00:01\r\u001b[K     |███▉                            | 40 kB 9.5 MB/s eta 0:00:01\r\u001b[K     |████▉                           | 51 kB 4.8 MB/s eta 0:00:01\r\u001b[K     |█████▊                          | 61 kB 5.6 MB/s eta 0:00:01\r\u001b[K     |██████▊                         | 71 kB 5.6 MB/s eta 0:00:01\r\u001b[K     |███████▋                        | 81 kB 6.2 MB/s eta 0:00:01\r\u001b[K     |████████▋                       | 92 kB 4.7 MB/s eta 0:00:01\r\u001b[K     |█████████▋                      | 102 kB 5.1 MB/s eta 0:00:01\r\u001b[K     |██████████▌                     | 112 kB 5.1 MB/s eta 0:00:01\r\u001b[K     |███████████▌                    | 122 kB 5.1 MB/s eta 0:00:01\r\u001b[K     |████████████▌                   | 133 kB 5.1 MB/s eta 0:00:01\r\u001b[K     |█████████████▍                  | 143 kB 5.1 MB/s eta 0:00:01\r\u001b[K     |██████████████▍                 | 153 kB 5.1 MB/s eta 0:00:01\r\u001b[K     |███████████████▎                | 163 kB 5.1 MB/s eta 0:00:01\r\u001b[K     |████████████████▎               | 174 kB 5.1 MB/s eta 0:00:01\r\u001b[K     |█████████████████▎              | 184 kB 5.1 MB/s eta 0:00:01\r\u001b[K     |██████████████████▏             | 194 kB 5.1 MB/s eta 0:00:01\r\u001b[K     |███████████████████▏            | 204 kB 5.1 MB/s eta 0:00:01\r\u001b[K     |████████████████████▏           | 215 kB 5.1 MB/s eta 0:00:01\r\u001b[K     |█████████████████████           | 225 kB 5.1 MB/s eta 0:00:01\r\u001b[K     |██████████████████████          | 235 kB 5.1 MB/s eta 0:00:01\r\u001b[K     |███████████████████████         | 245 kB 5.1 MB/s eta 0:00:01\r\u001b[K     |████████████████████████        | 256 kB 5.1 MB/s eta 0:00:01\r\u001b[K     |█████████████████████████       | 266 kB 5.1 MB/s eta 0:00:01\r\u001b[K     |█████████████████████████▉      | 276 kB 5.1 MB/s eta 0:00:01\r\u001b[K     |██████████████████████████▉     | 286 kB 5.1 MB/s eta 0:00:01\r\u001b[K     |███████████████████████████▊    | 296 kB 5.1 MB/s eta 0:00:01\r\u001b[K     |████████████████████████████▊   | 307 kB 5.1 MB/s eta 0:00:01\r\u001b[K     |█████████████████████████████▊  | 317 kB 5.1 MB/s eta 0:00:01\r\u001b[K     |██████████████████████████████▋ | 327 kB 5.1 MB/s eta 0:00:01\r\u001b[K     |███████████████████████████████▋| 337 kB 5.1 MB/s eta 0:00:01\r\u001b[K     |████████████████████████████████| 342 kB 5.1 MB/s \n",
            "\u001b[?25hRequirement already satisfied: torch>=1.3.0 in /usr/local/lib/python3.7/dist-packages (from stanza) (1.9.0+cu102)\n",
            "Requirement already satisfied: protobuf in /usr/local/lib/python3.7/dist-packages (from stanza) (3.17.3)\n",
            "Requirement already satisfied: numpy in /usr/local/lib/python3.7/dist-packages (from stanza) (1.19.5)\n",
            "Requirement already satisfied: requests in /usr/local/lib/python3.7/dist-packages (from stanza) (2.23.0)\n",
            "Requirement already satisfied: tqdm in /usr/local/lib/python3.7/dist-packages (from stanza) (4.62.0)\n",
            "Requirement already satisfied: typing-extensions in /usr/local/lib/python3.7/dist-packages (from torch>=1.3.0->stanza) (3.7.4.3)\n",
            "Requirement already satisfied: six>=1.9 in /usr/local/lib/python3.7/dist-packages (from protobuf->stanza) (1.15.0)\n",
            "Requirement already satisfied: urllib3!=1.25.0,!=1.25.1,<1.26,>=1.21.1 in /usr/local/lib/python3.7/dist-packages (from requests->stanza) (1.24.3)\n",
            "Requirement already satisfied: chardet<4,>=3.0.2 in /usr/local/lib/python3.7/dist-packages (from requests->stanza) (3.0.4)\n",
            "Requirement already satisfied: idna<3,>=2.5 in /usr/local/lib/python3.7/dist-packages (from requests->stanza) (2.10)\n",
            "Requirement already satisfied: certifi>=2017.4.17 in /usr/local/lib/python3.7/dist-packages (from requests->stanza) (2021.5.30)\n",
            "Installing collected packages: stanza\n",
            "Successfully installed stanza-1.2.3\n"
          ],
          "name": "stdout"
        }
      ]
    },
    {
      "cell_type": "code",
      "metadata": {
        "id": "-23dphgyQFv6"
      },
      "source": [
        "import nltk"
      ],
      "execution_count": 11,
      "outputs": []
    },
    {
      "cell_type": "code",
      "metadata": {
        "colab": {
          "base_uri": "https://localhost:8080/"
        },
        "id": "QOB9lfpwQDht",
        "outputId": "8163de70-08a8-4745-d229-c0c969683065"
      },
      "source": [
        "nltk.download('stopwords')\n",
        "nltk.download('punkt')\n",
        "nltk.download('averaged_perceptron_tagger')"
      ],
      "execution_count": 12,
      "outputs": [
        {
          "output_type": "stream",
          "text": [
            "[nltk_data] Downloading package stopwords to /root/nltk_data...\n",
            "[nltk_data]   Unzipping corpora/stopwords.zip.\n",
            "[nltk_data] Downloading package punkt to /root/nltk_data...\n",
            "[nltk_data]   Unzipping tokenizers/punkt.zip.\n",
            "[nltk_data] Downloading package averaged_perceptron_tagger to\n",
            "[nltk_data]     /root/nltk_data...\n",
            "[nltk_data]   Unzipping taggers/averaged_perceptron_tagger.zip.\n"
          ],
          "name": "stdout"
        },
        {
          "output_type": "execute_result",
          "data": {
            "text/plain": [
              "True"
            ]
          },
          "metadata": {},
          "execution_count": 12
        }
      ]
    },
    {
      "cell_type": "code",
      "metadata": {
        "id": "ddBWU9XRQVso"
      },
      "source": [
        "# import stanza\n",
        "# stanza.download('en') # download English model\n",
        "# nlp = stanza.Pipeline('en') "
      ],
      "execution_count": 13,
      "outputs": []
    },
    {
      "cell_type": "code",
      "metadata": {
        "id": "ByTN4a7tEu92"
      },
      "source": [
        "import string\n",
        "def remove_punc(aspect):\n",
        "  punc = string.punctuation\n",
        "  temp = \"\"\n",
        "  for i in aspect:\n",
        "    if i not in punc:\n",
        "      temp += i\n",
        "  return temp"
      ],
      "execution_count": 14,
      "outputs": []
    },
    {
      "cell_type": "markdown",
      "metadata": {
        "id": "yFZEf4DmcVnV"
      },
      "source": [
        "# Process"
      ]
    },
    {
      "cell_type": "code",
      "metadata": {
        "id": "HE6siPd3MAwi"
      },
      "source": [
        "import nltk\n",
        "from nltk.corpus import stopwords\n",
        "from nltk.stem import SnowballStemmer\n",
        "\n",
        "#Spacy\n",
        "import spacy\n",
        "nlp = spacy.load('en')\n",
        "\n",
        "# Other\n",
        "import re\n",
        "import json\n",
        "import string\n",
        "import numpy as np\n",
        "import pandas as pd\n",
        "\n",
        "import warnings\n",
        "warnings.filterwarnings('ignore')\n",
        "\n",
        "import tensorflow as tf\n",
        "#Keras\n",
        "from keras.models import load_model\n",
        "from keras.models import Sequential\n",
        "from keras.layers import Dense, Activation\n",
        "from keras.preprocessing.text import Tokenizer\n",
        "from tensorflow.keras.utils import to_categorical\n",
        "\n",
        "from sklearn.preprocessing import LabelEncoder"
      ],
      "execution_count": 15,
      "outputs": []
    },
    {
      "cell_type": "code",
      "metadata": {
        "id": "6-qsX6SWR6-M"
      },
      "source": [
        "df = pd.read_csv('data/train.csv')"
      ],
      "execution_count": 16,
      "outputs": []
    },
    {
      "cell_type": "code",
      "metadata": {
        "colab": {
          "base_uri": "https://localhost:8080/"
        },
        "id": "UHMFmID0X4XF",
        "outputId": "4dfa9124-0686-4676-837b-4437abd4abb2"
      },
      "source": [
        "df.dtypes"
      ],
      "execution_count": null,
      "outputs": [
        {
          "output_type": "execute_result",
          "data": {
            "text/plain": [
              "text      object\n",
              "aspect    object\n",
              "label      int64\n",
              "dtype: object"
            ]
          },
          "metadata": {},
          "execution_count": 66
        }
      ]
    },
    {
      "cell_type": "code",
      "metadata": {
        "colab": {
          "base_uri": "https://localhost:8080/"
        },
        "id": "E5Jb7sj0OAMs",
        "outputId": "c6260aa2-b7f7-4209-8810-454e01b36fb1"
      },
      "source": [
        "print(\"vocab\",df.aspect.nunique())"
      ],
      "execution_count": 17,
      "outputs": [
        {
          "output_type": "stream",
          "text": [
            "vocab 1544\n"
          ],
          "name": "stdout"
        }
      ]
    },
    {
      "cell_type": "code",
      "metadata": {
        "colab": {
          "base_uri": "https://localhost:8080/"
        },
        "id": "sIBY2ct0dKOL",
        "outputId": "541e8ccf-f05a-4d34-e8f1-a9f279325758"
      },
      "source": [
        "print(\"vocab\",df.text.nunique())"
      ],
      "execution_count": 18,
      "outputs": [
        {
          "output_type": "stream",
          "text": [
            "vocab 3747\n"
          ],
          "name": "stdout"
        }
      ]
    },
    {
      "cell_type": "code",
      "metadata": {
        "colab": {
          "base_uri": "https://localhost:8080/"
        },
        "id": "DHkYh_0Jz3tZ",
        "outputId": "662da8bd-8ce6-4e68-eb05-19a4b69cd5bd"
      },
      "source": [
        "vocab = []\n",
        "for i in df.iloc[:, 0]:\n",
        "  vocab.append(i)\n",
        "vocab = ' '.join(vocab).split()\n",
        "vocab_size_text = len(set(vocab))\n",
        "vocab_size_text"
      ],
      "execution_count": 19,
      "outputs": [
        {
          "output_type": "execute_result",
          "data": {
            "text/plain": [
              "7563"
            ]
          },
          "metadata": {},
          "execution_count": 19
        }
      ]
    },
    {
      "cell_type": "code",
      "metadata": {
        "colab": {
          "base_uri": "https://localhost:8080/"
        },
        "id": "o3YaqvJ70KCP",
        "outputId": "80d45b83-9afc-4713-b631-669436a41207"
      },
      "source": [
        "vocab_aspect = []\n",
        "for i in df.iloc[:, 1]:\n",
        "  vocab_aspect.append(i)\n",
        "vocab_aspect = ' '.join(vocab_aspect).split()\n",
        "vocab_size_aspect = len(set(vocab_aspect))\n",
        "vocab_size_aspect"
      ],
      "execution_count": 21,
      "outputs": [
        {
          "output_type": "execute_result",
          "data": {
            "text/plain": [
              "1476"
            ]
          },
          "metadata": {},
          "execution_count": 21
        }
      ]
    },
    {
      "cell_type": "code",
      "metadata": {
        "id": "XC_85Z11l7HV"
      },
      "source": [
        "column_count = vocab_size_text+vocab_size_aspect"
      ],
      "execution_count": 22,
      "outputs": []
    },
    {
      "cell_type": "code",
      "metadata": {
        "id": "xQPyftUlMUR_"
      },
      "source": [
        "tokenizer = Tokenizer(num_words=vocab_size_text)\n",
        "tokenizer.fit_on_texts(df.text)\n",
        "df_tokenized = pd.DataFrame(tokenizer.texts_to_matrix(df.text))"
      ],
      "execution_count": 23,
      "outputs": []
    },
    {
      "cell_type": "code",
      "metadata": {
        "id": "_ocjwkxCOuBY"
      },
      "source": [
        "df_tokenized"
      ],
      "execution_count": null,
      "outputs": []
    },
    {
      "cell_type": "code",
      "metadata": {
        "id": "TTV_AKEbcHo4"
      },
      "source": [
        "tokenizer2 = Tokenizer(num_words=vocab_size_aspect)\n",
        "tokenizer2.fit_on_texts(df.aspect)\n",
        "df_tokenized2 = pd.DataFrame(tokenizer2.texts_to_matrix(df.aspect))"
      ],
      "execution_count": 24,
      "outputs": []
    },
    {
      "cell_type": "code",
      "metadata": {
        "id": "5WdGsxJkcKE8"
      },
      "source": [
        "df_tokenized2"
      ],
      "execution_count": null,
      "outputs": []
    },
    {
      "cell_type": "code",
      "metadata": {
        "id": "sysZE-_2mG1R"
      },
      "source": [
        "df_tokenized3 = pd.concat([df_tokenized, df_tokenized2], axis=1)"
      ],
      "execution_count": 25,
      "outputs": []
    },
    {
      "cell_type": "code",
      "metadata": {
        "id": "CoL67zhAmONe"
      },
      "source": [
        "df_tokenized3"
      ],
      "execution_count": null,
      "outputs": []
    },
    {
      "cell_type": "code",
      "metadata": {
        "id": "LkaI43ZdOjv7"
      },
      "source": [
        "# category = df.iloc[:, 2].values.tolist"
      ],
      "execution_count": null,
      "outputs": []
    },
    {
      "cell_type": "code",
      "metadata": {
        "id": "kYtayaRAYzVv"
      },
      "source": [
        "from keras.models import load_model"
      ],
      "execution_count": null,
      "outputs": []
    },
    {
      "cell_type": "code",
      "metadata": {
        "colab": {
          "base_uri": "https://localhost:8080/"
        },
        "id": "31FYFkXTaI8K",
        "outputId": "dd884c92-8b05-4fb6-bfb5-24cc511966be"
      },
      "source": [
        "absa_model.save('trash')"
      ],
      "execution_count": null,
      "outputs": [
        {
          "output_type": "stream",
          "text": [
            "INFO:tensorflow:Assets written to: trash/assets\n"
          ],
          "name": "stdout"
        }
      ]
    },
    {
      "cell_type": "code",
      "metadata": {
        "id": "ZB7POk8PbySI"
      },
      "source": [
        "del absa_model"
      ],
      "execution_count": null,
      "outputs": []
    },
    {
      "cell_type": "code",
      "metadata": {
        "colab": {
          "base_uri": "https://localhost:8080/"
        },
        "id": "VxlLCSMea4jx",
        "outputId": "a6c9c12f-f470-425a-822e-491d53a5fe8c"
      },
      "source": [
        "absa_model.summary()"
      ],
      "execution_count": null,
      "outputs": [
        {
          "output_type": "stream",
          "text": [
            "Model: \"sequential_3\"\n",
            "_________________________________________________________________\n",
            "Layer (type)                 Output Shape              Param #   \n",
            "=================================================================\n",
            "dense_12 (Dense)             (None, 512)               4628480   \n",
            "_________________________________________________________________\n",
            "dense_13 (Dense)             (None, 256)               131328    \n",
            "_________________________________________________________________\n",
            "dense_14 (Dense)             (None, 128)               32896     \n",
            "_________________________________________________________________\n",
            "dense_15 (Dense)             (None, 3)                 387       \n",
            "=================================================================\n",
            "Total params: 4,793,091\n",
            "Trainable params: 4,793,091\n",
            "Non-trainable params: 0\n",
            "_________________________________________________________________\n"
          ],
          "name": "stdout"
        }
      ]
    },
    {
      "cell_type": "code",
      "metadata": {
        "id": "honp7zvOa0TM"
      },
      "source": [
        "absa_model = load_model('trash')"
      ],
      "execution_count": null,
      "outputs": []
    },
    {
      "cell_type": "code",
      "metadata": {
        "colab": {
          "base_uri": "https://localhost:8080/"
        },
        "id": "76tVCJ6tPNWB",
        "outputId": "56a69b21-8197-448b-a536-4a069da3e25f"
      },
      "source": [
        "label_encoder = LabelEncoder()\n",
        "label_encoder.fit(df.label)\n",
        "integer_category = label_encoder.transform(df.label)\n",
        "encoded_y = to_categorical(integer_category)\n",
        "encoded_y"
      ],
      "execution_count": null,
      "outputs": [
        {
          "output_type": "execute_result",
          "data": {
            "text/plain": [
              "array([[0., 1., 0.],\n",
              "       [1., 0., 0.],\n",
              "       [1., 0., 0.],\n",
              "       ...,\n",
              "       [1., 0., 0.],\n",
              "       [1., 0., 0.],\n",
              "       [1., 0., 0.]], dtype=float32)"
            ]
          },
          "metadata": {},
          "execution_count": 79
        }
      ]
    },
    {
      "cell_type": "markdown",
      "metadata": {
        "id": "OwnAYgTaSXoi"
      },
      "source": [
        "# Deep Learning Model"
      ]
    },
    {
      "cell_type": "code",
      "metadata": {
        "id": "Uu7X8dACMUWb"
      },
      "source": [
        "absa_model = Sequential()\n",
        "absa_model.add(Dense(512, input_shape=(column_count,), activation='relu'))\n",
        "absa_model.add((Dense(256, activation='relu')))\n",
        "absa_model.add((Dense(128, activation='relu')))\n",
        "absa_model.add(Dense(3, activation='softmax'))\n",
        "#compile model\n",
        "absa_model.compile(loss='categorical_crossentropy', optimizer='Adam', metrics=['accuracy'])"
      ],
      "execution_count": null,
      "outputs": []
    },
    {
      "cell_type": "code",
      "metadata": {
        "colab": {
          "base_uri": "https://localhost:8080/"
        },
        "id": "MOS1fP8dN0Az",
        "outputId": "130a5709-0233-4049-c285-1abbaba25fb3"
      },
      "source": [
        "history = absa_model.fit(df_tokenized3, y_train, epochs=50, verbose=1, validation_split=0.1)"
      ],
      "execution_count": null,
      "outputs": [
        {
          "output_type": "stream",
          "text": [
            "Exception ignored in: <function IteratorResourceDeleter.__del__ at 0x7f3d131f5c20>\n",
            "Traceback (most recent call last):\n",
            "  File \"/usr/local/lib/python3.7/dist-packages/tensorflow/python/data/ops/iterator_ops.py\", line 546, in __del__\n",
            "    handle=self._handle, deleter=self._deleter)\n",
            "  File \"/usr/local/lib/python3.7/dist-packages/tensorflow/python/ops/gen_dataset_ops.py\", line 1264, in delete_iterator\n",
            "    _ctx, \"DeleteIterator\", name, handle, deleter)\n",
            "KeyboardInterrupt: \n"
          ],
          "name": "stderr"
        }
      ]
    },
    {
      "cell_type": "markdown",
      "metadata": {
        "id": "I9slPox8LJfr"
      },
      "source": [
        "# Loss Accuracy of DL"
      ]
    },
    {
      "cell_type": "code",
      "metadata": {
        "colab": {
          "base_uri": "https://localhost:8080/"
        },
        "id": "DKorNBhuSq_t",
        "outputId": "554d6171-1568-44c8-b4d8-6df4204fb43e"
      },
      "source": [
        "history.history['accuracy'].index(max(history.history['accuracy']))"
      ],
      "execution_count": null,
      "outputs": [
        {
          "output_type": "execute_result",
          "data": {
            "text/plain": [
              "38"
            ]
          },
          "metadata": {},
          "execution_count": 26
        }
      ]
    },
    {
      "cell_type": "code",
      "metadata": {
        "colab": {
          "base_uri": "https://localhost:8080/"
        },
        "id": "JsU-HiIc3FXR",
        "outputId": "d899e2d7-36e8-43c2-9d00-e0375a1c57ee"
      },
      "source": [
        "history.history['val_accuracy'].index(max(history.history['val_accuracy']))"
      ],
      "execution_count": null,
      "outputs": [
        {
          "output_type": "execute_result",
          "data": {
            "text/plain": [
              "12"
            ]
          },
          "metadata": {},
          "execution_count": 29
        }
      ]
    },
    {
      "cell_type": "code",
      "metadata": {
        "colab": {
          "base_uri": "https://localhost:8080/"
        },
        "id": "ICnALypE3LHX",
        "outputId": "f5012481-6c64-4392-ad6a-fec267972ea9"
      },
      "source": [
        "history.history['loss'].index(min(history.history['loss']))"
      ],
      "execution_count": null,
      "outputs": [
        {
          "output_type": "execute_result",
          "data": {
            "text/plain": [
              "48"
            ]
          },
          "metadata": {},
          "execution_count": 30
        }
      ]
    },
    {
      "cell_type": "code",
      "metadata": {
        "colab": {
          "base_uri": "https://localhost:8080/"
        },
        "id": "F-LbmC2L3Rn0",
        "outputId": "910303e0-7f88-43f4-8077-f6c639be3420"
      },
      "source": [
        "history.history['val_loss'].index(min(history.history['val_loss']))"
      ],
      "execution_count": null,
      "outputs": [
        {
          "output_type": "execute_result",
          "data": {
            "text/plain": [
              "0"
            ]
          },
          "metadata": {},
          "execution_count": 31
        }
      ]
    },
    {
      "cell_type": "code",
      "metadata": {
        "colab": {
          "base_uri": "https://localhost:8080/"
        },
        "id": "uiMH6mTIRs62",
        "outputId": "5181d3be-53e2-452e-f088-e71669ce5cfc"
      },
      "source": [
        "print(history.history.keys())"
      ],
      "execution_count": null,
      "outputs": [
        {
          "output_type": "stream",
          "text": [
            "dict_keys(['loss', 'accuracy', 'val_loss', 'val_accuracy'])\n"
          ],
          "name": "stdout"
        }
      ]
    },
    {
      "cell_type": "code",
      "metadata": {
        "id": "JQMNb-A3Qh1b"
      },
      "source": [
        "# Visualize training history\n",
        "import matplotlib.pyplot as plt\n",
        "\n",
        "def plot_acc_loss(history):\n",
        "  plt.plot(history.history['accuracy'])\n",
        "  plt.plot(history.history['val_accuracy'])\n",
        "  plt.title('model accuracy')\n",
        "  plt.ylabel('accuracy')\n",
        "  plt.xlabel('epoch')\n",
        "  plt.legend(['train', 'test'], loc='upper left')\n",
        "  plt.show()\n",
        "  # summarize history for loss\n",
        "  plt.plot(history.history['loss'])\n",
        "  plt.plot(history.history['val_loss'])\n",
        "  plt.title('model loss')\n",
        "  plt.ylabel('loss')\n",
        "  plt.xlabel('epoch')\n",
        "  plt.legend(['train', 'test'], loc='upper left')\n",
        "  plt.show()"
      ],
      "execution_count": null,
      "outputs": []
    },
    {
      "cell_type": "code",
      "metadata": {
        "colab": {
          "base_uri": "https://localhost:8080/",
          "height": 573
        },
        "id": "eL-SiXZ1Qhq0",
        "outputId": "a14c2527-1996-423f-db6e-37ba3068109a"
      },
      "source": [
        "plot_acc_loss(history)"
      ],
      "execution_count": null,
      "outputs": [
        {
          "output_type": "display_data",
          "data": {
            "image/png": "[encoded data removed]",
            "text/plain": [
              "<Figure size 432x288 with 1 Axes>"
            ]
          },
          "metadata": {
            "needs_background": "light"
          }
        },
        {
          "output_type": "display_data",
          "data": {
            "image/png": "[encoded data removed]",
            "text/plain": [
              "<Figure size 432x288 with 1 Axes>"
            ]
          },
          "metadata": {
            "needs_background": "light"
          }
        }
      ]
    },
    {
      "cell_type": "markdown",
      "metadata": {
        "id": "4rl1dTGiSxCX"
      },
      "source": [
        "# Load for Training"
      ]
    },
    {
      "cell_type": "code",
      "metadata": {
        "colab": {
          "base_uri": "https://localhost:8080/",
          "height": 80
        },
        "id": "cnWjOJR4L7QB",
        "outputId": "e2f07702-06d6-412d-e09a-e8bec08f7f8e"
      },
      "source": [
        "df.head(1)"
      ],
      "execution_count": null,
      "outputs": [
        {
          "output_type": "execute_result",
          "data": {
            "text/html": [
              "<div>\n",
              "<style scoped>\n",
              "    .dataframe tbody tr th:only-of-type {\n",
              "        vertical-align: middle;\n",
              "    }\n",
              "\n",
              "    .dataframe tbody tr th {\n",
              "        vertical-align: top;\n",
              "    }\n",
              "\n",
              "    .dataframe thead th {\n",
              "        text-align: right;\n",
              "    }\n",
              "</style>\n",
              "<table border=\"1\" class=\"dataframe\">\n",
              "  <thead>\n",
              "    <tr style=\"text-align: right;\">\n",
              "      <th></th>\n",
              "      <th>text</th>\n",
              "      <th>aspect</th>\n",
              "      <th>label</th>\n",
              "    </tr>\n",
              "  </thead>\n",
              "  <tbody>\n",
              "    <tr>\n",
              "      <th>0</th>\n",
              "      <td>can you check whether its cancelled completely?</td>\n",
              "      <td>cancelled</td>\n",
              "      <td>1</td>\n",
              "    </tr>\n",
              "  </tbody>\n",
              "</table>\n",
              "</div>"
            ],
            "text/plain": [
              "                                              text     aspect  label\n",
              "0  can you check whether its cancelled completely?  cancelled      1"
            ]
          },
          "metadata": {},
          "execution_count": 39
        }
      ]
    },
    {
      "cell_type": "code",
      "metadata": {
        "id": "zSEwhkIYL5aV"
      },
      "source": [
        "X = df_tokenized3.iloc[:, :].values\n",
        "y = df.iloc[:, 2].values"
      ],
      "execution_count": 26,
      "outputs": []
    },
    {
      "cell_type": "code",
      "metadata": {
        "id": "JcaCT3Vg4BKP"
      },
      "source": [
        "from sklearn.model_selection import train_test_split \n",
        "from sklearn.metrics import classification_report\n",
        "from sklearn.metrics import roc_auc_score"
      ],
      "execution_count": 66,
      "outputs": []
    },
    {
      "cell_type": "code",
      "metadata": {
        "id": "tjI-YWfX4HKm"
      },
      "source": [
        "X_train, X_valid, y_train, y_valid = train_test_split(X, y, test_size=0.1, random_state=42)"
      ],
      "execution_count": 32,
      "outputs": []
    },
    {
      "cell_type": "code",
      "metadata": {
        "colab": {
          "base_uri": "https://localhost:8080/"
        },
        "id": "PsKYM6YR4fpR",
        "outputId": "8963bfc8-6805-49d3-e312-07ef3cf13fa0"
      },
      "source": [
        "X_train.shape"
      ],
      "execution_count": 33,
      "outputs": [
        {
          "output_type": "execute_result",
          "data": {
            "text/plain": [
              "(3600, 9039)"
            ]
          },
          "metadata": {},
          "execution_count": 33
        }
      ]
    },
    {
      "cell_type": "code",
      "metadata": {
        "colab": {
          "base_uri": "https://localhost:8080/"
        },
        "id": "E0HgAagL4ils",
        "outputId": "337bcf1a-443b-456f-c6e8-dc6e8e82727c"
      },
      "source": [
        "y_train.shape"
      ],
      "execution_count": 34,
      "outputs": [
        {
          "output_type": "execute_result",
          "data": {
            "text/plain": [
              "(3600,)"
            ]
          },
          "metadata": {},
          "execution_count": 34
        }
      ]
    },
    {
      "cell_type": "markdown",
      "metadata": {
        "id": "yxn3d4UbMc28"
      },
      "source": [
        "# Linear Regression"
      ]
    },
    {
      "cell_type": "code",
      "metadata": {
        "id": "wTx-1qpLLbxa",
        "colab": {
          "base_uri": "https://localhost:8080/"
        },
        "outputId": "046e7f62-dfae-47ee-d690-98c8affd2ae5"
      },
      "source": [
        "from sklearn.linear_model import LogisticRegression\n",
        "absa_model = LogisticRegression()\n",
        "absa_model.fit(X_train, y_train)"
      ],
      "execution_count": 54,
      "outputs": [
        {
          "output_type": "execute_result",
          "data": {
            "text/plain": [
              "LogisticRegression(C=1.0, class_weight=None, dual=False, fit_intercept=True,\n",
              "                   intercept_scaling=1, l1_ratio=None, max_iter=100,\n",
              "                   multi_class='auto', n_jobs=None, penalty='l2',\n",
              "                   random_state=None, solver='lbfgs', tol=0.0001, verbose=0,\n",
              "                   warm_start=False)"
            ]
          },
          "metadata": {},
          "execution_count": 54
        }
      ]
    },
    {
      "cell_type": "code",
      "metadata": {
        "colab": {
          "base_uri": "https://localhost:8080/"
        },
        "id": "VXGyDfFF4aeW",
        "outputId": "8ee85381-4f02-4aa5-990a-995d2a8a5a5a"
      },
      "source": [
        "print(\"Model accuracy on validation: \", absa_model.score(X_valid, y_valid))\n",
        "print(classification_report(y_valid, absa_model.predict(X_valid).tolist(), target_names=['0', '1', '2']))"
      ],
      "execution_count": 55,
      "outputs": [
        {
          "output_type": "stream",
          "text": [
            "Model accuracy on validation:  0.7075\n"
          ],
          "name": "stdout"
        }
      ]
    },
    {
      "cell_type": "code",
      "metadata": {
        "colab": {
          "base_uri": "https://localhost:8080/"
        },
        "id": "BoVjpBIe7CLI",
        "outputId": "c73e273b-b9fd-49ed-c526-080578acb3a8"
      },
      "source": [
        "print(classification_report(y_valid, absa_model.predict(X_valid).tolist(), target_names=['0', '1', '2']))"
      ],
      "execution_count": 56,
      "outputs": [
        {
          "output_type": "stream",
          "text": [
            "              precision    recall  f1-score   support\n",
            "\n",
            "           0       0.76      0.71      0.73       179\n",
            "           1       0.66      0.72      0.69       124\n",
            "           2       0.68      0.69      0.69        97\n",
            "\n",
            "    accuracy                           0.71       400\n",
            "   macro avg       0.70      0.71      0.70       400\n",
            "weighted avg       0.71      0.71      0.71       400\n",
            "\n"
          ],
          "name": "stdout"
        }
      ]
    },
    {
      "cell_type": "markdown",
      "metadata": {
        "id": "7Ny6ZzYHObzQ"
      },
      "source": [
        "# KNN"
      ]
    },
    {
      "cell_type": "code",
      "metadata": {
        "colab": {
          "base_uri": "https://localhost:8080/"
        },
        "id": "-Lc6dxgjOdKl",
        "outputId": "44725083-6785-423f-f051-b50db853db6c"
      },
      "source": [
        "from sklearn.neighbors import KNeighborsClassifier\n",
        "absa_model = KNeighborsClassifier()\n",
        "absa_model.fit(X_train, y_train)"
      ],
      "execution_count": 57,
      "outputs": [
        {
          "output_type": "execute_result",
          "data": {
            "text/plain": [
              "KNeighborsClassifier(algorithm='auto', leaf_size=30, metric='minkowski',\n",
              "                     metric_params=None, n_jobs=None, n_neighbors=5, p=2,\n",
              "                     weights='uniform')"
            ]
          },
          "metadata": {},
          "execution_count": 57
        }
      ]
    },
    {
      "cell_type": "code",
      "metadata": {
        "colab": {
          "base_uri": "https://localhost:8080/"
        },
        "id": "uN8g5b_o5AXe",
        "outputId": "afd5c0f7-c818-478b-831a-25af102be691"
      },
      "source": [
        "print(\"Model accuracy on validation: \", absa_model.score(X_valid, y_valid))"
      ],
      "execution_count": 58,
      "outputs": [
        {
          "output_type": "stream",
          "text": [
            "Model accuracy on validation:  0.5525\n"
          ],
          "name": "stdout"
        }
      ]
    },
    {
      "cell_type": "code",
      "metadata": {
        "colab": {
          "base_uri": "https://localhost:8080/"
        },
        "id": "3_5-WXxs777i",
        "outputId": "ade5e74a-c492-4eb1-d82d-c253204ada22"
      },
      "source": [
        "print(classification_report(y_valid, absa_model.predict(X_valid).tolist(), target_names=['0', '1', '2']))"
      ],
      "execution_count": 59,
      "outputs": [
        {
          "output_type": "stream",
          "text": [
            "              precision    recall  f1-score   support\n",
            "\n",
            "           0       0.62      0.56      0.59       179\n",
            "           1       0.65      0.38      0.48       124\n",
            "           2       0.44      0.76      0.56        97\n",
            "\n",
            "    accuracy                           0.55       400\n",
            "   macro avg       0.57      0.57      0.54       400\n",
            "weighted avg       0.59      0.55      0.55       400\n",
            "\n"
          ],
          "name": "stdout"
        }
      ]
    },
    {
      "cell_type": "markdown",
      "metadata": {
        "id": "hlPcDMfzOduv"
      },
      "source": [
        "# Decision Tree"
      ]
    },
    {
      "cell_type": "code",
      "metadata": {
        "colab": {
          "base_uri": "https://localhost:8080/"
        },
        "id": "UhIMiMvNO6oD",
        "outputId": "f0286667-9f62-45df-d299-1982358322f2"
      },
      "source": [
        "from sklearn.tree import DecisionTreeClassifier\n",
        "absa_model = DecisionTreeClassifier()\n",
        "absa_model.fit(X_train, y_train)"
      ],
      "execution_count": 60,
      "outputs": [
        {
          "output_type": "execute_result",
          "data": {
            "text/plain": [
              "DecisionTreeClassifier(ccp_alpha=0.0, class_weight=None, criterion='gini',\n",
              "                       max_depth=None, max_features=None, max_leaf_nodes=None,\n",
              "                       min_impurity_decrease=0.0, min_impurity_split=None,\n",
              "                       min_samples_leaf=1, min_samples_split=2,\n",
              "                       min_weight_fraction_leaf=0.0, presort='deprecated',\n",
              "                       random_state=None, splitter='best')"
            ]
          },
          "metadata": {},
          "execution_count": 60
        }
      ]
    },
    {
      "cell_type": "code",
      "metadata": {
        "colab": {
          "base_uri": "https://localhost:8080/"
        },
        "id": "rac00A9N5J94",
        "outputId": "e3ffdbc8-5b17-48ea-9668-2bf3aabd1b0a"
      },
      "source": [
        "print(\"Model accuracy on validation: \", absa_model.score(X_valid, y_valid))"
      ],
      "execution_count": 61,
      "outputs": [
        {
          "output_type": "stream",
          "text": [
            "Model accuracy on validation:  0.58\n"
          ],
          "name": "stdout"
        }
      ]
    },
    {
      "cell_type": "code",
      "metadata": {
        "colab": {
          "base_uri": "https://localhost:8080/"
        },
        "id": "DeT98Xfp79CE",
        "outputId": "de44b38b-4d17-4939-fc9d-83658a5b429d"
      },
      "source": [
        "print(classification_report(y_valid, absa_model.predict(X_valid).tolist(), target_names=['0', '1', '2']))"
      ],
      "execution_count": 62,
      "outputs": [
        {
          "output_type": "stream",
          "text": [
            "              precision    recall  f1-score   support\n",
            "\n",
            "           0       0.64      0.63      0.63       179\n",
            "           1       0.53      0.52      0.53       124\n",
            "           2       0.53      0.57      0.55        97\n",
            "\n",
            "    accuracy                           0.58       400\n",
            "   macro avg       0.57      0.57      0.57       400\n",
            "weighted avg       0.58      0.58      0.58       400\n",
            "\n"
          ],
          "name": "stdout"
        }
      ]
    },
    {
      "cell_type": "markdown",
      "metadata": {
        "id": "MQoswlznUiZs"
      },
      "source": [
        "# SVM"
      ]
    },
    {
      "cell_type": "code",
      "metadata": {
        "colab": {
          "base_uri": "https://localhost:8080/"
        },
        "id": "AiP-0hoUUot0",
        "outputId": "288d5c7a-b518-4f2e-a06c-fcc62f92be0f"
      },
      "source": [
        "from sklearn.svm import SVC\n",
        "absa_model = SVC(kernel = 'rbf')\n",
        "absa_model.fit(X_train, y_train.reshape(y_train.shape[0], ))"
      ],
      "execution_count": 63,
      "outputs": [
        {
          "output_type": "execute_result",
          "data": {
            "text/plain": [
              "SVC(C=1.0, break_ties=False, cache_size=200, class_weight=None, coef0=0.0,\n",
              "    decision_function_shape='ovr', degree=3, gamma='scale', kernel='rbf',\n",
              "    max_iter=-1, probability=False, random_state=None, shrinking=True,\n",
              "    tol=0.001, verbose=False)"
            ]
          },
          "metadata": {},
          "execution_count": 63
        }
      ]
    },
    {
      "cell_type": "code",
      "metadata": {
        "colab": {
          "base_uri": "https://localhost:8080/"
        },
        "id": "pc6AjJJN5Mjx",
        "outputId": "d317835a-e935-40df-e6bf-c9e16948555d"
      },
      "source": [
        "print(\"Model accuracy on validation: \", absa_model.score(X_valid, y_valid))\n",
        "print(classification_report(y_valid, absa_model.predict(X_valid).tolist(), target_names=['0', '1', '2']))"
      ],
      "execution_count": 64,
      "outputs": [
        {
          "output_type": "stream",
          "text": [
            "Model accuracy on validation:  0.725\n"
          ],
          "name": "stdout"
        }
      ]
    },
    {
      "cell_type": "code",
      "metadata": {
        "colab": {
          "base_uri": "https://localhost:8080/"
        },
        "id": "EFbkV5rI67wf",
        "outputId": "b73b6259-4b14-4698-ffb6-f8e744537daf"
      },
      "source": [
        "print(classification_report(y_valid, absa_model.predict(X_valid).tolist(), target_names=['0', '1', '2']))"
      ],
      "execution_count": 65,
      "outputs": [
        {
          "output_type": "stream",
          "text": [
            "              precision    recall  f1-score   support\n",
            "\n",
            "           0       0.76      0.78      0.77       179\n",
            "           1       0.66      0.81      0.73       124\n",
            "           2       0.77      0.53      0.63        97\n",
            "\n",
            "    accuracy                           0.73       400\n",
            "   macro avg       0.73      0.70      0.71       400\n",
            "weighted avg       0.73      0.72      0.72       400\n",
            "\n"
          ],
          "name": "stdout"
        }
      ]
    },
    {
      "cell_type": "markdown",
      "metadata": {
        "id": "x2LiXt5GLFND"
      },
      "source": [
        "# Predict"
      ]
    },
    {
      "cell_type": "code",
      "metadata": {
        "id": "jsNWtRQ6N4hZ"
      },
      "source": [
        "test = pd.read_csv('data/test.csv')"
      ],
      "execution_count": null,
      "outputs": []
    },
    {
      "cell_type": "code",
      "metadata": {
        "id": "67ofPc2CTbgb"
      },
      "source": [
        "test_text = test.iloc[:, 0].values.tolist()\n",
        "\n",
        "# Aspect preprocessing\n",
        "test_tokenized = pd.DataFrame(tokenizer.texts_to_matrix(test.text))\n",
        "test_tokenized2 = pd.DataFrame(tokenizer2.texts_to_matrix(test.aspect))\n",
        "test_tokenized3 = pd.concat([test_tokenized, test_tokenized2], axis=1)"
      ],
      "execution_count": null,
      "outputs": []
    },
    {
      "cell_type": "markdown",
      "metadata": {
        "id": "-cWJmIXcT_j-"
      },
      "source": [
        "# For DL"
      ]
    },
    {
      "cell_type": "code",
      "metadata": {
        "id": "ZyXDo3ynLUCu"
      },
      "source": [
        "test_sentiment = label_encoder.inverse_transform(np.argmax(absa_model.predict(test_tokenized3), axis=-1))"
      ],
      "execution_count": null,
      "outputs": []
    },
    {
      "cell_type": "markdown",
      "metadata": {
        "id": "E_oQQseGUBzG"
      },
      "source": [
        "# For ML"
      ]
    },
    {
      "cell_type": "code",
      "metadata": {
        "id": "NhBz8dlXNCR2"
      },
      "source": [
        "test_sentiment = absa_model.predict(test_tokenized3).tolist()"
      ],
      "execution_count": null,
      "outputs": []
    },
    {
      "cell_type": "markdown",
      "metadata": {
        "id": "k0uz6k37UEbu"
      },
      "source": [
        "# Save Output"
      ]
    },
    {
      "cell_type": "code",
      "metadata": {
        "id": "67QlUBTePF_Z"
      },
      "source": [
        "test_sentiment"
      ],
      "execution_count": null,
      "outputs": []
    },
    {
      "cell_type": "code",
      "metadata": {
        "id": "Z-rYzDOzLVBc"
      },
      "source": [
        "test['label'] = test_sentiment"
      ],
      "execution_count": null,
      "outputs": []
    },
    {
      "cell_type": "code",
      "metadata": {
        "id": "2aJ2z_KIWp5u"
      },
      "source": [
        "test.to_csv('data/results/test.csv', index = False)"
      ],
      "execution_count": null,
      "outputs": []
    },
    {
      "cell_type": "markdown",
      "metadata": {
        "id": "xsDGpDex52Cr"
      },
      "source": [
        "# Python Version"
      ]
    },
    {
      "cell_type": "code",
      "metadata": {
        "id": "vpNCa8rZUKm8"
      },
      "source": [
        ""
      ],
      "execution_count": null,
      "outputs": []
    }
  ]
}